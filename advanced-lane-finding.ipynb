{
 "cells": [
  {
   "cell_type": "markdown",
   "metadata": {
    "collapsed": true
   },
   "source": [
    "# Advanced Lane Finding "
   ]
  },
  {
   "cell_type": "code",
   "execution_count": 2,
   "metadata": {
    "collapsed": true
   },
   "outputs": [],
   "source": [
    "import numpy as np\n",
    "import cv2\n",
    "import glob\n",
    "import matplotlib.pyplot as plt\n",
    "import matplotlib.image as mpimg\n",
    "from moviepy.editor import VideoFileClip\n",
    "from collections import deque\n",
    "%matplotlib inline"
   ]
  },
  {
   "cell_type": "markdown",
   "metadata": {},
   "source": [
    "## Step 1: Distortion Correction"
   ]
  },
  {
   "cell_type": "markdown",
   "metadata": {},
   "source": [
    "Firstly I will use cv2.findChessboardCorners() and cv2.drawChessboardCorners() to find and draw the inside corners in those chessboards."
   ]
  },
  {
   "cell_type": "code",
   "execution_count": 142,
   "metadata": {},
   "outputs": [],
   "source": [
    "CAL_IMGS_PATH = 'camera_cal/calibration*.jpg'\n",
    "TEST_IMGS_PATH = 'test_images/test*.jpg'\n",
    "\n",
    "\n",
    "class Calibration:\n",
    "    perspective_src = np.float32([[490, 482],[810, 482],\n",
    "                                  [1250, 720],[40, 720]])\n",
    "    perspective_dst = np.float32([[0, 0], [1280, 0], \n",
    "                                  [1250, 720],[40, 720]])\n",
    "\n",
    "    \n",
    "    def __init__(self, nx, ny):\n",
    "        # nx represent the number of inside corners in x axis\n",
    "        # ny represent the number of inside corners in y axis\n",
    "        self.nx, self.ny = nx, ny\n",
    "        self.objpoints = [] # 3d points in real world space\n",
    "        self.imgpoints = [] # 2d points in image plane\n",
    "        self.cal_imgs = []\n",
    "        self.cal_imgs_with_corners = []\n",
    "        self.test_imgs = []\n",
    "        self.test_imgs_with_undistorted = []\n",
    "        self.test_imgs_with_birdseye = []\n",
    "\n",
    "    def load_cal_imgs(self, cal_path):\n",
    "        cal_img_names = glob.glob(cal_path)\n",
    "        self.cal_imgs = [cv2.imread(name) for name in cal_img_names]\n",
    "\n",
    "    def load_test_imgs(self, test_path):\n",
    "        test_img_names = glob.glob(test_path)\n",
    "        self.test_imgs = [cv2.imread(name) for name in test_img_names]\n",
    "\n",
    "    def draw_corners(self):\n",
    "        objp = np.zeros((6*9,3), np.float32)\n",
    "        objp[:,:2] = np.mgrid[0:9, 0:6].T.reshape(-1,2)\n",
    "\n",
    "        for img in self.cal_imgs:\n",
    "            # Convert to grayscale\n",
    "            gray = cv2.cvtColor(img, cv2.COLOR_BGR2GRAY)\n",
    "\n",
    "            # Find the chessboard corners\n",
    "            ret, corners = cv2.findChessboardCorners(gray, (self.nx, self.ny), None)\n",
    "\n",
    "            # If found, draw corners\n",
    "            if ret == True:\n",
    "                orig_img = img.copy()\n",
    "                self.objpoints.append(objp)\n",
    "                self.imgpoints.append(corners)\n",
    "\n",
    "                # Draw the corners\n",
    "                cv2.drawChessboardCorners(img, (self.nx, self.ny), corners, ret)\n",
    "                self.cal_imgs_with_corners.append(((orig_img, img)))\n",
    "   \n",
    "    def undistort(self):\n",
    "        for img in self.test_imgs:\n",
    "            img_size = (img.shape[1], img.shape[0])\n",
    "            ret, mtx, dist, rvecs, tvecs = cv2.calibrateCamera(self.objpoints, self.imgpoints, img_size, None, None)\n",
    "            undist = cv2.undistort(img, mtx, dist, None, mtx)\n",
    "            self.test_imgs_with_undistorted.append((img, undist))\n",
    "            \n",
    "    def birds_eye(self):\n",
    "        for orig_img, undist_img in self.test_imgs_with_undistorted:\n",
    "            # Grab the image shape\n",
    "            img_size = (orig_img.shape[1], orig_img.shape[0])\n",
    "            # Given src and dst points, calculate the perspective transform matrix\n",
    "            M = cv2.getPerspectiveTransform(self.perspective_src, self.perspective_dst)\n",
    "            # Warp the image using OpenCV warpPerspective()\n",
    "            warped = cv2.warpPerspective(undist_img, M, img_size)\n",
    "            self.test_imgs_with_birdseye.append((orig_img, warped))\n",
    "\n",
    "\n",
    "    def combined_binary(self):\n",
    "        combined_binary_lst = []\n",
    "        for _, img in self.test_imgs_with_birdseye:\n",
    "            l_channel = cv2.cvtColor(img, cv2.COLOR_BGR2LUV)[:,:,0]\n",
    "            b_channel = cv2.cvtColor(img, cv2.COLOR_BGR2Lab)[:,:,2]   \n",
    "\n",
    "            b_thresh_min = 155\n",
    "            b_thresh_max = 200\n",
    "            b_binary = np.zeros_like(b_channel)\n",
    "            b_binary[(b_channel >= b_thresh_min) & (b_channel <= b_thresh_max)] = 1\n",
    "            \n",
    "            l_thresh_min = 225\n",
    "            l_thresh_max = 255\n",
    "            l_binary = np.zeros_like(l_channel)\n",
    "            l_binary[(l_channel >= l_thresh_min) & (l_channel <= l_thresh_max)] = 1\n",
    "\n",
    "            combined_binary = np.zeros_like(img[:, :, 0])\n",
    "            combined_binary[(l_binary == 1) | (b_binary == 1)] = 1\n",
    "\n",
    "            combined_binary_lst.append(combined_binary)\n",
    "        \n",
    "        return combined_binary_lst\n",
    "\n",
    "    def fill_lane(self):\n",
    "        combined_binary_lst = self.combined_binary()\n",
    "        binary_warped = combined_binary_lst[0]\n",
    "\n",
    "        # Assuming you have created a warped binary image called \"binary_warped\"\n",
    "        # Take a histogram of the bottom half of the image\n",
    "        histogram = np.sum(binary_warped[binary_warped.shape[0] // 2:, :], axis=0)\n",
    "        # Create an output image to draw on and  visualize the result\n",
    "        out_img = np.dstack((binary_warped, binary_warped, binary_warped))*255\n",
    "        # Find the peak of the left and right halves of the histogram\n",
    "        # These will be the starting point for the left and right lines\n",
    "        midpoint = np.int(histogram.shape[0]/2)\n",
    "        leftx_base = np.argmax(histogram[:midpoint])\n",
    "        rightx_base = np.argmax(histogram[midpoint:]) + midpoint\n",
    "\n",
    "        # Choose the number of sliding windows\n",
    "        nwindows = 9\n",
    "        # Set height of windows\n",
    "        window_height = np.int(binary_warped.shape[0]/nwindows)\n",
    "        # Identify the x and y positions of all nonzero pixels in the image\n",
    "        nonzero = binary_warped.nonzero()\n",
    "        nonzeroy = np.array(nonzero[0])\n",
    "        nonzerox = np.array(nonzero[1])\n",
    "        # Current positions to be updated for each window\n",
    "        leftx_current = leftx_base\n",
    "        rightx_current = rightx_base\n",
    "        # Set the width of the windows +/- margin\n",
    "        margin = 100\n",
    "        # Set minimum number of pixels found to recenter window\n",
    "        minpix = 50\n",
    "        # Create empty lists to receive left and right lane pixel indices\n",
    "        left_lane_inds = []\n",
    "        right_lane_inds = []\n",
    "\n",
    "        # Step through the windows one by one\n",
    "        for window in range(nwindows):\n",
    "            # Identify window boundaries in x and y (and right and left)\n",
    "            win_y_low = binary_warped.shape[0] - (window+1)*window_height\n",
    "            win_y_high = binary_warped.shape[0] - window*window_height\n",
    "            win_xleft_low = leftx_current - margin\n",
    "            win_xleft_high = leftx_current + margin\n",
    "            win_xright_low = rightx_current - margin\n",
    "            win_xright_high = rightx_current + margin\n",
    "            # Draw the windows on the visualization image\n",
    "            cv2.rectangle(out_img,(win_xleft_low,win_y_low),(win_xleft_high,win_y_high),(0,255,0), 2) \n",
    "            cv2.rectangle(out_img,(win_xright_low,win_y_low),(win_xright_high,win_y_high),(0,255,0), 2) \n",
    "            # Identify the nonzero pixels in x and y within the window\n",
    "            good_left_inds = ((nonzeroy >= win_y_low) & (nonzeroy < win_y_high) & (nonzerox >= win_xleft_low) & (nonzerox < win_xleft_high)).nonzero()[0]\n",
    "            good_right_inds = ((nonzeroy >= win_y_low) & (nonzeroy < win_y_high) & (nonzerox >= win_xright_low) & (nonzerox < win_xright_high)).nonzero()[0]\n",
    "            # Append these indices to the lists\n",
    "            left_lane_inds.append(good_left_inds)\n",
    "            right_lane_inds.append(good_right_inds)\n",
    "            # If you found > minpix pixels, recenter next window on their mean position\n",
    "            if len(good_left_inds) > minpix:\n",
    "                leftx_current = np.int(np.mean(nonzerox[good_left_inds]))\n",
    "            if len(good_right_inds) > minpix:        \n",
    "                rightx_current = np.int(np.mean(nonzerox[good_right_inds]))\n",
    "\n",
    "        # Concatenate the arrays of indices\n",
    "        left_lane_inds = np.concatenate(left_lane_inds)\n",
    "        right_lane_inds = np.concatenate(right_lane_inds)\n",
    "\n",
    "        # Extract left and right line pixel positions\n",
    "        leftx = nonzerox[left_lane_inds]\n",
    "        lefty = nonzeroy[left_lane_inds] \n",
    "        rightx = nonzerox[right_lane_inds]\n",
    "        righty = nonzeroy[right_lane_inds] \n",
    "\n",
    "        # Fit a second order polynomial to each\n",
    "        left_fit = np.polyfit(lefty, leftx, 2)\n",
    "        right_fit = np.polyfit(righty, rightx, 2)\n",
    "\n",
    "        # Generate x and y values for plotting\n",
    "        ploty = np.linspace(0, binary_warped.shape[0]-1, binary_warped.shape[0] )\n",
    "        left_fitx = left_fit[0]*ploty**2 + left_fit[1]*ploty + left_fit[2]\n",
    "        right_fitx = right_fit[0]*ploty**2 + right_fit[1]*ploty + right_fit[2]\n",
    "\n",
    "        out_img[nonzeroy[left_lane_inds], nonzerox[left_lane_inds]] = [255, 0, 0]\n",
    "        out_img[nonzeroy[right_lane_inds], nonzerox[right_lane_inds]] = [0, 0, 255]\n",
    "        plt.imshow(out_img)\n",
    "        plt.plot(left_fitx, ploty, color='yellow')\n",
    "        plt.plot(right_fitx, ploty, color='yellow')\n",
    "        plt.xlim(0, 1280)\n",
    "        plt.ylim(720, 0)\n",
    "\n",
    "    def show_cal_plot(self):\n",
    "        for orig_img, img in self.cal_imgs_with_corners:\n",
    "            f, (ax1, ax2) = plt.subplots(1, 2, figsize=(16,8))\n",
    "            ax1.imshow(orig_img)\n",
    "            ax1.set_title('Original Image', fontsize=18)\n",
    "            ax2.imshow(img)\n",
    "            ax2.set_title('Image With Corners', fontsize=18)\n",
    "            \n",
    "    def show_test_plot(self):\n",
    "        for orig_img, img in self.test_imgs_with_undistorted:\n",
    "            f, (ax1, ax2) = plt.subplots(1, 2, figsize=(16,8))\n",
    "            ax1.imshow(cv2.cvtColor(orig_img, cv2.COLOR_BGR2RGB))\n",
    "            ax1.set_title('Original Image', fontsize=18)\n",
    "            ax2.imshow(cv2.cvtColor(img, cv2.COLOR_BGR2RGB))\n",
    "            ax2.set_title('Undistorted Image', fontsize=18)\n",
    "            \n",
    "    def show_birdseye_plot(self):\n",
    "        for orig_img, img in self.test_imgs_with_birdseye:\n",
    "            f, (ax1, ax2) = plt.subplots(1, 2, figsize=(16,8))\n",
    "            ax1.imshow(cv2.cvtColor(orig_img, cv2.COLOR_BGR2RGB))\n",
    "            ax1.set_title('Original Image', fontsize=18)\n",
    "            ax2.imshow(cv2.cvtColor(img, cv2.COLOR_BGR2RGB))\n",
    "            ax2.set_title('Warped Image', fontsize=18)\n",
    "            \n",
    "\n",
    "    def show_threshold_plot(self):\n",
    "     \n",
    "        for _, img in self.test_imgs_with_birdseye:\n",
    "            l_channel = cv2.cvtColor(img, cv2.COLOR_BGR2LUV)[:,:,0]\n",
    "            b_channel = cv2.cvtColor(img, cv2.COLOR_BGR2Lab)[:,:,2]   \n",
    "\n",
    "#             # Red channel\n",
    "#             thresh = (200, 255)\n",
    "#             red = img[:, :, 0]\n",
    "#             r_channel = np.zeros_like(red)\n",
    "#             r_channel[(red > thresh[0]) & (red <= thresh[1])] = 1\n",
    "    \n",
    "            b_thresh_min = 155\n",
    "            b_thresh_max = 200\n",
    "            b_binary = np.zeros_like(b_channel)\n",
    "            b_binary[(b_channel >= b_thresh_min) & (b_channel <= b_thresh_max)] = 1\n",
    "            \n",
    "            l_thresh_min = 225\n",
    "            l_thresh_max = 255\n",
    "            l_binary = np.zeros_like(l_channel)\n",
    "            l_binary[(l_channel >= l_thresh_min) & (l_channel <= l_thresh_max)] = 1\n",
    "\n",
    "            combined_binary = np.zeros_like(img[:, :, 0])\n",
    "            combined_binary[(l_binary == 1) | (b_binary == 1)] = 1\n",
    "\n",
    "            # Plotting thresholded images\n",
    "            f, ((ax1, ax2), (ax3, ax4)) = plt.subplots(2, 2, sharey='col', sharex='row', figsize=(10,6))\n",
    "            f.tight_layout()\n",
    "            \n",
    "            ax1.set_title('Warped Image', fontsize=16)\n",
    "            ax1.imshow(cv2.cvtColor(img, cv2.COLOR_BGR2RGB).astype('uint8'))\n",
    "\n",
    "            ax2.set_title('b binary threshold', fontsize=16)\n",
    "            ax2.imshow(b_binary, cmap='gray')\n",
    "            \n",
    "            ax3.set_title('l binary threshold', fontsize=16)\n",
    "            ax3.imshow(l_binary, cmap='gray')\n",
    "\n",
    "            ax4.set_title('Combined color thresholds', fontsize=16)\n",
    "            ax4.imshow(combined_binary, cmap='gray')"
   ]
  },
  {
   "cell_type": "code",
   "execution_count": 143,
   "metadata": {},
   "outputs": [],
   "source": [
    "# find and draw the inside corner of the chessboards \n",
    "cal = Calibration(9, 6)\n",
    "cal.load_cal_imgs(CAL_IMGS_PATH)\n",
    "cal.draw_corners()\n",
    "# cal.show_cal_plot()"
   ]
  },
  {
   "cell_type": "markdown",
   "metadata": {},
   "source": [
    "Next I will use undistort() to calculate camera calibration matrix and distortion coefficients. It can remove distortion of image and output the undistorted image."
   ]
  },
  {
   "cell_type": "code",
   "execution_count": 144,
   "metadata": {},
   "outputs": [],
   "source": [
    "# undistort the test images\n",
    "cal.load_test_imgs(TEST_IMGS_PATH)\n",
    "cal.undistort()\n",
    "# cal.show_test_plot()\n"
   ]
  },
  {
   "cell_type": "markdown",
   "metadata": {
    "collapsed": true
   },
   "source": [
    "## Step 2: Perspective Transform"
   ]
  },
  {
   "cell_type": "code",
   "execution_count": 145,
   "metadata": {},
   "outputs": [],
   "source": [
    "cal.birds_eye()\n",
    "#cal.show_birdseye_plot()"
   ]
  },
  {
   "cell_type": "markdown",
   "metadata": {},
   "source": [
    "## Step 3: Apply Binary Thresholds"
   ]
  },
  {
   "cell_type": "code",
   "execution_count": 146,
   "metadata": {
    "scrolled": false
   },
   "outputs": [],
   "source": [
    "#cal.show_threshold_plot()"
   ]
  },
  {
   "cell_type": "markdown",
   "metadata": {},
   "source": [
    "## Steps 4, 5 and 6: Fitting a polynomial to the lane lines, calculating vehicle position and radius of curvature:"
   ]
  },
  {
   "cell_type": "code",
   "execution_count": 147,
   "metadata": {},
   "outputs": [
    {
     "data": {
      "image/png": "[encoded data removed]",
      "text/plain": [
       "<matplotlib.figure.Figure at 0x10bf964a8>"
      ]
     },
     "metadata": {},
     "output_type": "display_data"
    }
   ],
   "source": [
    "cal.fill_lane()"
   ]
  },
  {
   "cell_type": "code",
   "execution_count": null,
   "metadata": {
    "collapsed": true
   },
   "outputs": [],
   "source": []
  }
 ],
 "metadata": {
  "kernelspec": {
   "display_name": "Python 3",
   "language": "python",
   "name": "python3"
  },
  "language_info": {
   "codemirror_mode": {
    "name": "ipython",
    "version": 3
   },
   "file_extension": ".py",
   "mimetype": "text/x-python",
   "name": "python",
   "nbconvert_exporter": "python",
   "pygments_lexer": "ipython3",
   "version": "3.5.2"
  },
  "widgets": {
   "state": {},
   "version": "1.1.2"
  }
 },
 "nbformat": 4,
 "nbformat_minor": 2
}
