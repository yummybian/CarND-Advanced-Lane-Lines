{
 "cells": [
  {
   "cell_type": "markdown",
   "metadata": {
    "collapsed": true
   },
   "source": [
    "# Advanced Lane Finding "
   ]
  },
  {
   "cell_type": "code",
   "execution_count": 64,
   "metadata": {
    "collapsed": true
   },
   "outputs": [],
   "source": [
    "import numpy as np\n",
    "import cv2\n",
    "import glob\n",
    "import matplotlib.pyplot as plt\n",
    "import matplotlib.image as mpimg\n",
    "from moviepy.editor import VideoFileClip\n",
    "from collections import deque\n",
    "%matplotlib inline"
   ]
  },
  {
   "cell_type": "markdown",
   "metadata": {},
   "source": [
    "## Step 1: Distortion Correction"
   ]
  },
  {
   "cell_type": "markdown",
   "metadata": {},
   "source": [
    "Firstly I will use cv2.findChessboardCorners() and cv2.drawChessboardCorners() to find and draw the inside corners in those chessboards."
   ]
  },
  {
   "cell_type": "code",
   "execution_count": 165,
   "metadata": {},
   "outputs": [],
   "source": [
    "CAL_IMGS_PATH = 'camera_cal/calibration*.jpg'\n",
    "TEST_IMGS_PATH = 'test_images/test*.jpg'\n",
    "\n",
    "class Calibration:\n",
    "    perspective_src = np.float32([[490, 482],[810, 482],\n",
    "                                  [1250, 720],[40, 720]])\n",
    "    perspective_dst = np.float32([[0, 0], [1280, 0], \n",
    "                                  [1250, 720],[40, 720]])\n",
    "\n",
    "    \n",
    "    def __init__(self, nx, ny):\n",
    "        # nx represent the number of inside corners in x axis\n",
    "        # ny represent the number of inside corners in y axis\n",
    "        self.nx, self.ny = nx, ny\n",
    "        self.objpoints = [] # 3d points in real world space\n",
    "        self.imgpoints = [] # 2d points in image plane\n",
    "        self.cal_imgs = []\n",
    "        self.cal_imgs_with_corners = []\n",
    "        self.test_imgs = []\n",
    "        self.test_imgs_with_undistorted = []\n",
    "        self.test_imgs_with_birdseye = []\n",
    "\n",
    "    def load_cal_imgs(self, cal_path):\n",
    "        cal_img_names = glob.glob(cal_path)\n",
    "        self.cal_imgs = [cv2.imread(name) for name in cal_img_names]\n",
    "\n",
    "    def load_test_imgs(self, test_path):\n",
    "        test_img_names = glob.glob(test_path)\n",
    "        self.test_imgs = [cv2.imread(name) for name in test_img_names]\n",
    "\n",
    "    def draw_corners(self):\n",
    "        objp = np.zeros((6*9,3), np.float32)\n",
    "        objp[:,:2] = np.mgrid[0:9, 0:6].T.reshape(-1,2)\n",
    "\n",
    "        for img in self.cal_imgs:\n",
    "            # Convert to grayscale\n",
    "            gray = cv2.cvtColor(img, cv2.COLOR_BGR2GRAY)\n",
    "\n",
    "            # Find the chessboard corners\n",
    "            ret, corners = cv2.findChessboardCorners(gray, (self.nx, self.ny), None)\n",
    "\n",
    "            # If found, draw corners\n",
    "            if ret == True:\n",
    "                orig_img = img.copy()\n",
    "                self.objpoints.append(objp)\n",
    "                self.imgpoints.append(corners)\n",
    "\n",
    "                # Draw the corners\n",
    "                cv2.drawChessboardCorners(img, (self.nx, self.ny), corners, ret)\n",
    "                self.cal_imgs_with_corners.append(((orig_img, img)))\n",
    "   \n",
    "    def undistort(self):\n",
    "        for img in self.test_imgs:\n",
    "            img_size = (img.shape[1], img.shape[0])\n",
    "            ret, mtx, dist, rvecs, tvecs = cv2.calibrateCamera(self.objpoints, self.imgpoints, img_size, None, None)\n",
    "            undist = cv2.undistort(img, mtx, dist, None, mtx)\n",
    "            self.test_imgs_with_undistorted.append((img, undist))\n",
    "            \n",
    "    def birds_eye(self):\n",
    "        for orig_img, undist_img in self.test_imgs_with_undistorted:\n",
    "            # Grab the image shape\n",
    "            img_size = (orig_img.shape[1], orig_img.shape[0])\n",
    "            # Given src and dst points, calculate the perspective transform matrix\n",
    "            M = cv2.getPerspectiveTransform(self.perspective_src, self.perspective_dst)\n",
    "            # Warp the image using OpenCV warpPerspective()\n",
    "            warped = cv2.warpPerspective(undist_img, M, img_size)\n",
    "            self.test_imgs_with_birdseye.append((orig_img, warped))\n",
    "\n",
    "\n",
    "    def combined_binary(self):\n",
    "        combined_binary_lst = []\n",
    "        for _, img in self.test_imgs_with_birdseye:\n",
    "            l_channel = cv2.cvtColor(img, cv2.COLOR_BGR2LUV)[:,:,0]\n",
    "            b_channel = cv2.cvtColor(img, cv2.COLOR_BGR2Lab)[:,:,2]   \n",
    "\n",
    "            b_thresh_min = 155\n",
    "            b_thresh_max = 200\n",
    "            b_binary = np.zeros_like(b_channel)\n",
    "            b_binary[(b_channel >= b_thresh_min) & (b_channel <= b_thresh_max)] = 1\n",
    "            \n",
    "            l_thresh_min = 225\n",
    "            l_thresh_max = 255\n",
    "            l_binary = np.zeros_like(l_channel)\n",
    "            l_binary[(l_channel >= l_thresh_min) & (l_channel <= l_thresh_max)] = 1\n",
    "\n",
    "            combined_binary = np.zeros_like(img[:, :, 0])\n",
    "            combined_binary[(l_binary == 1) | (b_binary == 1)] = 1\n",
    "\n",
    "            combined_binary_lst.append(combined_binary)\n",
    "        \n",
    "        return combined_binary_lst\n",
    "\n",
    "    def fill_lane(self):\n",
    "        combined_binary = self.combined_binary()[2]\n",
    "        \n",
    "        rightx = []\n",
    "        righty = []\n",
    "        leftx = []\n",
    "        lefty = []\n",
    "        \n",
    "        x, y = np.nonzero(np.transpose(combined_binary))\n",
    "        i = 720\n",
    "        j = 630\n",
    "        while j >= 0:\n",
    "            histogram = np.sum(combined_binary[j:i,:], axis=0)\n",
    "            left_peak = np.argmax(histogram[:640])\n",
    "            x_idx = np.where((((left_peak - 25) < x)&(x < (left_peak + 25))&((y > j) & (y < i))))\n",
    "            x_window, y_window = x[x_idx], y[x_idx]\n",
    "            if np.sum(x_window) != 0:\n",
    "                leftx.extend(x_window.tolist())\n",
    "                lefty.extend(y_window.tolist())\n",
    "\n",
    "            right_peak = np.argmax(histogram[640:]) + 640\n",
    "            x_idx = np.where((((right_peak - 25) < x)&(x < (right_peak + 25))&((y > j) & (y < i))))\n",
    "            x_window, y_window = x[x_idx], y[x_idx]\n",
    "            if np.sum(x_window) != 0:\n",
    "                rightx.extend(x_window.tolist())\n",
    "                righty.extend(y_window.tolist())\n",
    "            i -= 90\n",
    "            j -= 90\n",
    "\n",
    "        lefty = np.array(lefty).astype(np.float32)\n",
    "        leftx = np.array(leftx).astype(np.float32)\n",
    "        righty = np.array(righty).astype(np.float32)\n",
    "        rightx = np.array(rightx).astype(np.float32)\n",
    "        left_fit = np.polyfit(lefty, leftx, 2)\n",
    "        left_fitx = left_fit[0]*lefty**2 + left_fit[1]*lefty + left_fit[2]\n",
    "        right_fit = np.polyfit(righty, rightx, 2)\n",
    "        right_fitx = right_fit[0]*righty**2 + right_fit[1]*righty + right_fit[2]\n",
    "        rightx_int = right_fit[0]*720**2 + right_fit[1]*720 + right_fit[2]\n",
    "        rightx = np.append(rightx,rightx_int)\n",
    "        righty = np.append(righty, 720)\n",
    "        rightx = np.append(rightx,right_fit[0]*0**2 + right_fit[1]*0 + right_fit[2])\n",
    "        righty = np.append(righty, 0)\n",
    "        leftx_int = left_fit[0]*720**2 + left_fit[1]*720 + left_fit[2]\n",
    "        leftx = np.append(leftx, leftx_int)\n",
    "        lefty = np.append(lefty, 720)\n",
    "        leftx = np.append(leftx,left_fit[0]*0**2 + left_fit[1]*0 + left_fit[2])\n",
    "        lefty = np.append(lefty, 0)\n",
    "        lsort = np.argsort(lefty)\n",
    "        rsort = np.argsort(righty)\n",
    "        lefty = lefty[lsort]\n",
    "        leftx = leftx[lsort]\n",
    "        righty = righty[rsort]\n",
    "        rightx = rightx[rsort]\n",
    "        left_fit = np.polyfit(lefty, leftx, 2)\n",
    "        left_fitx = left_fit[0]*lefty**2 + left_fit[1]*lefty + left_fit[2]\n",
    "        right_fit = np.polyfit(righty, rightx, 2)\n",
    "        right_fitx = right_fit[0]*righty**2 + right_fit[1]*righty + right_fit[2]\n",
    "        \n",
    "        # Measure Radius of Curvature for each lane line\n",
    "        ym_per_pix = 30./720 # meters per pixel in y dimension\n",
    "        xm_per_pix = 3.7/700 # meteres per pixel in x dimension\n",
    "        left_fit_cr = np.polyfit(lefty*ym_per_pix, leftx*xm_per_pix, 2)\n",
    "        right_fit_cr = np.polyfit(righty*ym_per_pix, rightx*xm_per_pix, 2)\n",
    "        left_curverad = ((1 + (2*left_fit_cr[0]*np.max(lefty) + left_fit_cr[1])**2)**1.5) \\\n",
    "                                    /np.absolute(2*left_fit_cr[0])\n",
    "        right_curverad = ((1 + (2*right_fit_cr[0]*np.max(lefty) + right_fit_cr[1])**2)**1.5) \\\n",
    "                                        /np.absolute(2*right_fit_cr[0])\n",
    "    \n",
    "    \n",
    "        # Calculate the position of the vehicle\n",
    "        center = abs(640 - ((rightx_int+leftx_int)/2))\n",
    "        \n",
    "        offset = 0 \n",
    "        img_size = (img.shape[1], img.shape[0])\n",
    "        src = np.float32([[490, 482],[810, 482],\n",
    "                        [1250, 720],[40, 720]])\n",
    "        dst = np.float32([[0, 0], [1280, 0], \n",
    "                        [1250, 720],[40, 720]])\n",
    "        Minv = cv2.getPerspectiveTransform(dst, src)\n",
    "        \n",
    "        warp_zero = np.zeros_like(combined_binary).astype(np.uint8)\n",
    "        color_warp = np.dstack((warp_zero, warp_zero, warp_zero))\n",
    "        pts_left = np.array([np.flipud(np.transpose(np.vstack([left_fitx, lefty])))])\n",
    "        pts_right = np.array([np.transpose(np.vstack([right_fitx, righty]))])\n",
    "        pts = np.hstack((pts_left, pts_right))\n",
    "        cv2.polylines(color_warp, np.int_([pts]), isClosed=False, color=(0,0,255), thickness = 40)\n",
    "        cv2.fillPoly(color_warp, np.int_([pts]), (0,255, 0))\n",
    "        newwarp = cv2.warpPerspective(color_warp, Minv, (combined_binary.shape[1], combined_binary.shape[0]))\n",
    "        result = cv2.addWeighted(mpimg.imread(image), 1, newwarp, 0.5, 0)\n",
    "        \n",
    "        f, (ax1, ax2) = plt.subplots(1,2, figsize=(9, 6))\n",
    "        f.tight_layout()\n",
    "        ax1.imshow(cv2.cvtColor((birds_eye(image, display=False)[0]), cv2.COLOR_BGR2RGB))\n",
    "        ax1.set_xlim(0, 1280)\n",
    "        ax1.set_ylim(0, 720)\n",
    "        ax1.plot(left_fitx, lefty, color='green', linewidth=3)\n",
    "        ax1.plot(right_fitx, righty, color='green', linewidth=3)\n",
    "        ax1.set_title('Fit Polynomial to Lane Lines', fontsize=16)\n",
    "        ax1.invert_yaxis() # to visualize as we do the images\n",
    "        ax2.imshow(result)\n",
    "        ax2.set_title('Fill Lane Between Polynomials', fontsize=16)\n",
    "        if center < 640:\n",
    "            ax2.text(200, 100, 'Vehicle is {:.2f}m left of center'.format(center*3.7/700),\n",
    "                    style='italic', color='white', fontsize=10)\n",
    "        else:\n",
    "            ax2.text(200, 100, 'Vehicle is {:.2f}m right of center'.format(center*3.7/700),\n",
    "                    style='italic', color='white', fontsize=10)\n",
    "        ax2.text(200, 175, 'Radius of curvature is {}m'.format(int((left_curverad + right_curverad)/2)),\n",
    "                style='italic', color='white', fontsize=10)\n",
    "\n",
    "    def show_cal_plot(self):\n",
    "        for orig_img, img in self.cal_imgs_with_corners:\n",
    "            f, (ax1, ax2) = plt.subplots(1, 2, figsize=(16,8))\n",
    "            ax1.imshow(orig_img)\n",
    "            ax1.set_title('Original Image', fontsize=18)\n",
    "            ax2.imshow(img)\n",
    "            ax2.set_title('Image With Corners', fontsize=18)\n",
    "            \n",
    "    def show_test_plot(self):\n",
    "        for orig_img, img in self.test_imgs_with_undistorted:\n",
    "            f, (ax1, ax2) = plt.subplots(1, 2, figsize=(16,8))\n",
    "            ax1.imshow(cv2.cvtColor(orig_img, cv2.COLOR_BGR2RGB))\n",
    "            ax1.set_title('Original Image', fontsize=18)\n",
    "            ax2.imshow(cv2.cvtColor(img, cv2.COLOR_BGR2RGB))\n",
    "            ax2.set_title('Undistorted Image', fontsize=18)\n",
    "            \n",
    "    def show_birdseye_plot(self):\n",
    "        for orig_img, img in self.test_imgs_with_birdseye:\n",
    "            f, (ax1, ax2) = plt.subplots(1, 2, figsize=(16,8))\n",
    "            ax1.imshow(cv2.cvtColor(orig_img, cv2.COLOR_BGR2RGB))\n",
    "            ax1.set_title('Original Image', fontsize=18)\n",
    "            ax2.imshow(cv2.cvtColor(img, cv2.COLOR_BGR2RGB))\n",
    "            ax2.set_title('Warped Image', fontsize=18)\n",
    "            \n",
    "\n",
    "    def show_threshold_plot(self):\n",
    "     \n",
    "        for _, img in self.test_imgs_with_birdseye:\n",
    "            l_channel = cv2.cvtColor(img, cv2.COLOR_BGR2LUV)[:,:,0]\n",
    "            b_channel = cv2.cvtColor(img, cv2.COLOR_BGR2Lab)[:,:,2]   \n",
    "\n",
    "#             # Red channel\n",
    "#             thresh = (200, 255)\n",
    "#             red = img[:, :, 0]\n",
    "#             r_channel = np.zeros_like(red)\n",
    "#             r_channel[(red > thresh[0]) & (red <= thresh[1])] = 1\n",
    "    \n",
    "            b_thresh_min = 155\n",
    "            b_thresh_max = 200\n",
    "            b_binary = np.zeros_like(b_channel)\n",
    "            b_binary[(b_channel >= b_thresh_min) & (b_channel <= b_thresh_max)] = 1\n",
    "            \n",
    "            l_thresh_min = 225\n",
    "            l_thresh_max = 255\n",
    "            l_binary = np.zeros_like(l_channel)\n",
    "            l_binary[(l_channel >= l_thresh_min) & (l_channel <= l_thresh_max)] = 1\n",
    "\n",
    "            combined_binary = np.zeros_like(img[:, :, 0])\n",
    "            combined_binary[(l_binary == 1) | (b_binary == 1)] = 1\n",
    "\n",
    "            # Plotting thresholded images\n",
    "            f, ((ax1, ax2), (ax3, ax4)) = plt.subplots(2, 2, sharey='col', sharex='row', figsize=(10,6))\n",
    "            f.tight_layout()\n",
    "            \n",
    "            ax1.set_title('Warped Image', fontsize=16)\n",
    "            ax1.imshow(cv2.cvtColor(img, cv2.COLOR_BGR2RGB).astype('uint8'))\n",
    "\n",
    "            ax2.set_title('b binary threshold', fontsize=16)\n",
    "            ax2.imshow(b_binary, cmap='gray')\n",
    "            \n",
    "            ax3.set_title('l binary threshold', fontsize=16)\n",
    "            ax3.imshow(l_binary, cmap='gray')\n",
    "\n",
    "            ax4.set_title('Combined color thresholds', fontsize=16)\n",
    "            ax4.imshow(combined_binary, cmap='gray')"
   ]
  },
  {
   "cell_type": "code",
   "execution_count": 166,
   "metadata": {
    "collapsed": true
   },
   "outputs": [],
   "source": [
    "# find and draw the inside corner of the chessboards \n",
    "cal = Calibration(9, 6)\n",
    "cal.load_cal_imgs(CAL_IMGS_PATH)\n",
    "cal.draw_corners()\n",
    "# cal.show_cal_plot()"
   ]
  },
  {
   "cell_type": "markdown",
   "metadata": {},
   "source": [
    "Next I will use undistort() to calculate camera calibration matrix and distortion coefficients. It can remove distortion of image and output the undistorted image."
   ]
  },
  {
   "cell_type": "code",
   "execution_count": 167,
   "metadata": {
    "collapsed": true
   },
   "outputs": [],
   "source": [
    "# undistort the test images\n",
    "cal.load_test_imgs(TEST_IMGS_PATH)\n",
    "cal.undistort()\n",
    "# cal.show_test_plot()\n"
   ]
  },
  {
   "cell_type": "markdown",
   "metadata": {
    "collapsed": true
   },
   "source": [
    "## Step 2: Perspective Transform"
   ]
  },
  {
   "cell_type": "code",
   "execution_count": 168,
   "metadata": {
    "collapsed": true
   },
   "outputs": [],
   "source": [
    "cal.birds_eye()\n",
    "#cal.show_birdseye_plot()"
   ]
  },
  {
   "cell_type": "markdown",
   "metadata": {},
   "source": [
    "## Step 3: Apply Binary Thresholds"
   ]
  },
  {
   "cell_type": "code",
   "execution_count": 169,
   "metadata": {
    "collapsed": true,
    "scrolled": false
   },
   "outputs": [],
   "source": [
    "#cal.show_threshold_plot()"
   ]
  },
  {
   "cell_type": "markdown",
   "metadata": {},
   "source": [
    "## Steps 4, 5 and 6: Fitting a polynomial to the lane lines, calculating vehicle position and radius of curvature:"
   ]
  },
  {
   "cell_type": "code",
   "execution_count": 170,
   "metadata": {},
   "outputs": [
    {
     "ename": "NameError",
     "evalue": "name 'birds_eye' is not defined",
     "output_type": "error",
     "traceback": [
      "\u001b[0;31m---------------------------------------------------------------------------\u001b[0m",
      "\u001b[0;31mNameError\u001b[0m                                 Traceback (most recent call last)",
      "\u001b[0;32m<ipython-input-170-203105d35fa4>\u001b[0m in \u001b[0;36m<module>\u001b[0;34m()\u001b[0m\n\u001b[0;32m----> 1\u001b[0;31m \u001b[0mcal\u001b[0m\u001b[0;34m.\u001b[0m\u001b[0mfill_lane\u001b[0m\u001b[0;34m(\u001b[0m\u001b[0;34m)\u001b[0m\u001b[0;34m\u001b[0m\u001b[0m\n\u001b[0m",
      "\u001b[0;32m<ipython-input-165-23f1df40cfd1>\u001b[0m in \u001b[0;36mfill_lane\u001b[0;34m(self)\u001b[0m\n\u001b[1;32m    181\u001b[0m         \u001b[0mf\u001b[0m\u001b[0;34m,\u001b[0m \u001b[0;34m(\u001b[0m\u001b[0max1\u001b[0m\u001b[0;34m,\u001b[0m \u001b[0max2\u001b[0m\u001b[0;34m)\u001b[0m \u001b[0;34m=\u001b[0m \u001b[0mplt\u001b[0m\u001b[0;34m.\u001b[0m\u001b[0msubplots\u001b[0m\u001b[0;34m(\u001b[0m\u001b[0;36m1\u001b[0m\u001b[0;34m,\u001b[0m\u001b[0;36m2\u001b[0m\u001b[0;34m,\u001b[0m \u001b[0mfigsize\u001b[0m\u001b[0;34m=\u001b[0m\u001b[0;34m(\u001b[0m\u001b[0;36m9\u001b[0m\u001b[0;34m,\u001b[0m \u001b[0;36m6\u001b[0m\u001b[0;34m)\u001b[0m\u001b[0;34m)\u001b[0m\u001b[0;34m\u001b[0m\u001b[0m\n\u001b[1;32m    182\u001b[0m         \u001b[0mf\u001b[0m\u001b[0;34m.\u001b[0m\u001b[0mtight_layout\u001b[0m\u001b[0;34m(\u001b[0m\u001b[0;34m)\u001b[0m\u001b[0;34m\u001b[0m\u001b[0m\n\u001b[0;32m--> 183\u001b[0;31m         \u001b[0max1\u001b[0m\u001b[0;34m.\u001b[0m\u001b[0mimshow\u001b[0m\u001b[0;34m(\u001b[0m\u001b[0mcv2\u001b[0m\u001b[0;34m.\u001b[0m\u001b[0mcvtColor\u001b[0m\u001b[0;34m(\u001b[0m\u001b[0;34m(\u001b[0m\u001b[0mbirds_eye\u001b[0m\u001b[0;34m(\u001b[0m\u001b[0mimage\u001b[0m\u001b[0;34m,\u001b[0m \u001b[0mdisplay\u001b[0m\u001b[0;34m=\u001b[0m\u001b[0;32mFalse\u001b[0m\u001b[0;34m)\u001b[0m\u001b[0;34m[\u001b[0m\u001b[0;36m0\u001b[0m\u001b[0;34m]\u001b[0m\u001b[0;34m)\u001b[0m\u001b[0;34m,\u001b[0m \u001b[0mcv2\u001b[0m\u001b[0;34m.\u001b[0m\u001b[0mCOLOR_BGR2RGB\u001b[0m\u001b[0;34m)\u001b[0m\u001b[0;34m)\u001b[0m\u001b[0;34m\u001b[0m\u001b[0m\n\u001b[0m\u001b[1;32m    184\u001b[0m         \u001b[0max1\u001b[0m\u001b[0;34m.\u001b[0m\u001b[0mset_xlim\u001b[0m\u001b[0;34m(\u001b[0m\u001b[0;36m0\u001b[0m\u001b[0;34m,\u001b[0m \u001b[0;36m1280\u001b[0m\u001b[0;34m)\u001b[0m\u001b[0;34m\u001b[0m\u001b[0m\n\u001b[1;32m    185\u001b[0m         \u001b[0max1\u001b[0m\u001b[0;34m.\u001b[0m\u001b[0mset_ylim\u001b[0m\u001b[0;34m(\u001b[0m\u001b[0;36m0\u001b[0m\u001b[0;34m,\u001b[0m \u001b[0;36m720\u001b[0m\u001b[0;34m)\u001b[0m\u001b[0;34m\u001b[0m\u001b[0m\n",
      "\u001b[0;31mNameError\u001b[0m: name 'birds_eye' is not defined"
     ]
    },
    {
     "data": {
      "image/png": "[encoded data removed]",
      "text/plain": [
       "<matplotlib.figure.Figure at 0x125915c18>"
      ]
     },
     "metadata": {},
     "output_type": "display_data"
    }
   ],
   "source": [
    "cal.fill_lane()"
   ]
  },
  {
   "cell_type": "code",
   "execution_count": null,
   "metadata": {
    "collapsed": true
   },
   "outputs": [],
   "source": []
  }
 ],
 "metadata": {
  "kernelspec": {
   "display_name": "Python 3",
   "language": "python",
   "name": "python3"
  },
  "language_info": {
   "codemirror_mode": {
    "name": "ipython",
    "version": 3
   },
   "file_extension": ".py",
   "mimetype": "text/x-python",
   "name": "python",
   "nbconvert_exporter": "python",
   "pygments_lexer": "ipython3",
   "version": "3.5.2"
  },
  "widgets": {
   "state": {},
   "version": "1.1.2"
  }
 },
 "nbformat": 4,
 "nbformat_minor": 2
}
